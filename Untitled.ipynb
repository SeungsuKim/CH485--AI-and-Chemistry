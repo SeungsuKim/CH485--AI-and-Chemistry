{
 "cells": [
  {
   "cell_type": "code",
   "execution_count": null,
   "metadata": {},
   "outputs": [],
   "source": [
    "\n",
    "q = p\n",
    "p = sorted([(str(x[0]), x[1]) for x in enumerate(p)], f)\n",
    "\n",
    "code = { x[0]: '' for x in p}\n",
    "\n",
    "\n",
    "for k in range(10-1):\n",
    "    for x in p[0][0]:\n",
    "        code[x] += '0'\n",
    "    for x in p[1][0]:\n",
    "        code[x] += '1'\n",
    "\n",
    "    p = sorted(p[2:] + [(p[0][0]+p[1][0], p[0][1]+p[1][1])],f)\n",
    "\n",
    "print q\n",
    "print code"
   ]
  },
  {
   "cell_type": "code",
   "execution_count": 12,
   "metadata": {},
   "outputs": [
    {
     "name": "stdout",
     "output_type": "stream",
     "text": [
      "{'0': '000', '1': '100', '5': '010', '2': '110', '4': '001', '3': '101', '6': '011', '7': '111'}\n"
     ]
    }
   ],
   "source": [
    "freqs = [301, 302, 303, 304, 303, 302, 304, 304]\n",
    "\n",
    "freqs = [(str(i), freq) for i, freq in enumerate(freqs)]\n",
    "f = lambda x: x[1]\n",
    "freqs = sorted(freqs, key=f)\n",
    "freqs\n",
    "\n",
    "code = { x[0]: '' for x in freqs }\n",
    "\n",
    "for k in range(len(freqs)-1):\n",
    "    for x in freqs[0][0]:\n",
    "        code[x] += '0'\n",
    "    for x in freqs[1][0]:\n",
    "        code[x] += '1'\n",
    "    \n",
    "    freqs = sorted(freqs[2:] + [(freqs[0][0]+freqs[1][0], freqs[0][1]+freqs[1][1])], key=f)\n",
    "\n",
    "print(code)"
   ]
  },
  {
   "cell_type": "code",
   "execution_count": null,
   "metadata": {},
   "outputs": [],
   "source": [
    "301\n",
    "302\n",
    "303\n",
    "304\n",
    "303\n",
    "302\n",
    "304\n",
    "304"
   ]
  },
  {
   "cell_type": "code",
   "execution_count": 15,
   "metadata": {},
   "outputs": [],
   "source": [
    "class HuffmanNode:\n",
    "    \n",
    "    def __init__(self, char, freq):\n",
    "        self.char = char\n",
    "        self.freq = freq\n",
    "        self.left = None\n",
    "        self.right = None\n",
    "        \n",
    "    def __eq__(self, other):\n",
    "        if other is None:\n",
    "            return -1\n",
    "        return self.freq == other.freq\n",
    "    \n",
    "    def __gt__(self, other):\n",
    "        if other is None:\n",
    "            return -1\n",
    "        return self.freq > other.freq\n",
    "    \n",
    "    def __lt__(self, other):\n",
    "        if other is None:\n",
    "            return -1\n",
    "        return self.freq < other.freq"
   ]
  },
  {
   "cell_type": "code",
   "execution_count": 16,
   "metadata": {},
   "outputs": [],
   "source": [
    "import heapq\n",
    "\n",
    "class Huffman:\n",
    "    \n",
    "    def __init__(self):\n",
    "        self.heap = []\n",
    "        self.freqs = {}\n",
    "        self.codes = {}\n",
    "        \n",
    "    def generate_freqs(self, freqs):\n",
    "        self.freqs = {}\n",
    "        for i, freq in enumerate(freqs):\n",
    "            self.freqs[str(i)] = freq\n",
    "            \n",
    "    def generate_heap(self):\n",
    "        for key in self.freqs:\n",
    "            node = HuffmanNode(key, self.freqs[key])\n",
    "            heapq.heappush(self.heap, node)\n",
    "            \n",
    "    def merge_nodes(self):\n",
    "        while len(self.heap) > 1:\n",
    "            node1 = heapq.heappop(self.heap)\n",
    "            node2 = heapq.heappop(self.heap)\n",
    "            \n",
    "            merged_node = HuffmanNode(None, node1.freq+node2.freq)\n",
    "            merged_node.left = node1\n",
    "            merged_node.right = node2\n",
    "            \n",
    "            heapq.heappush(self.heap, merged_node)\n",
    "            \n",
    "    def generate_code_helper(self, root, code):\n",
    "        if root is None:\n",
    "            return\n",
    "        \n",
    "        if not root.char is None:\n",
    "            self.codes[root.char] = code\n",
    "            return\n",
    "            \n",
    "        self.generate_code_helper(root.left, code+'0')\n",
    "        self.generate_code_helper(root.right, code+'1')\n",
    "    \n",
    "    def generate_code(self):\n",
    "        root = heapq.heappop(self.heap)\n",
    "        code = ''\n",
    "        self.generate_code_helper(root, code)"
   ]
  },
  {
   "cell_type": "code",
   "execution_count": 24,
   "metadata": {},
   "outputs": [
    {
     "name": "stdout",
     "output_type": "stream",
     "text": [
      "{'0': '000', '5': '001', '1': '010', '2': '011', '4': '100', '7': '101', '6': '110', '3': '111'}\n",
      "000\n",
      "001\n",
      "010\n",
      "011\n",
      "100\n",
      "101\n",
      "110\n",
      "111\n"
     ]
    }
   ],
   "source": [
    "freqs = [301, 302, 303, 304, 303, 302, 304, 304]\n",
    "#freqs = [1, 2, 4, 8, 16]\n",
    "#freqs = [47, 21, 87, 20, 36, 78, 14]\n",
    "huffman = Huffman()\n",
    "huffman.generate_freqs(freqs)\n",
    "huffman.generate_heap()\n",
    "huffman.merge_nodes()\n",
    "huffman.generate_code()\n",
    "print(huffman.codes)\n",
    "for key in huffman.codes:\n",
    "    print(huffman.codes[key])"
   ]
  },
  {
   "cell_type": "code",
   "execution_count": 14,
   "metadata": {},
   "outputs": [
    {
     "data": {
      "text/plain": [
       "False"
      ]
     },
     "execution_count": 14,
     "metadata": {},
     "output_type": "execute_result"
    }
   ],
   "source": [
    "n1 = HuffmanNode('a', 10)\n",
    "n2 = HuffmanNode('b', 20)\n",
    "n1 < n2"
   ]
  },
  {
   "cell_type": "code",
   "execution_count": 1,
   "metadata": {},
   "outputs": [],
   "source": [
    "from rdkit import Chem, DataStructs\n",
    "from rdkit.Chem import AllChem\n",
    "from rdkit.Chem.Crippen import MolLogP"
   ]
  },
  {
   "cell_type": "code",
   "execution_count": 6,
   "metadata": {},
   "outputs": [
    {
     "name": "stdout",
     "output_type": "stream",
     "text": [
      "C\n",
      "2\n",
      "1\n",
      "1\n",
      "False\n",
      "O\n",
      "1\n",
      "0\n",
      "0\n",
      "False\n",
      "Cl\n",
      "1\n",
      "0\n",
      "0\n",
      "False\n"
     ]
    }
   ],
   "source": [
    "smile = \"C(=O)Cl\"\n",
    "iMol = Chem.MolFromSmiles(smile)\n",
    "for atom in iMol.GetAtoms():\n",
    "    print(atom.GetSymbol())\n",
    "    print(atom.GetDegree())\n",
    "    print(atom.GetTotalNumHs())\n",
    "    print(atom.GetImplicitValence())\n",
    "    print(atom.GetIsAromatic())"
   ]
  },
  {
   "cell_type": "code",
   "execution_count": null,
   "metadata": {},
   "outputs": [],
   "source": []
  }
 ],
 "metadata": {
  "kernelspec": {
   "display_name": "Python (pytorch)",
   "language": "python",
   "name": "pytorch"
  },
  "language_info": {
   "codemirror_mode": {
    "name": "ipython",
    "version": 3
   },
   "file_extension": ".py",
   "mimetype": "text/x-python",
   "name": "python",
   "nbconvert_exporter": "python",
   "pygments_lexer": "ipython3",
   "version": "3.6.7"
  }
 },
 "nbformat": 4,
 "nbformat_minor": 2
}
