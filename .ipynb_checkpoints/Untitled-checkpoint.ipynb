{
 "cells": [
  {
   "cell_type": "code",
   "execution_count": 1,
   "metadata": {},
   "outputs": [],
   "source": [
    "import torch"
   ]
  },
  {
   "cell_type": "code",
   "execution_count": 2,
   "metadata": {},
   "outputs": [
    {
     "data": {
      "text/plain": [
       "True"
      ]
     },
     "execution_count": 2,
     "metadata": {},
     "output_type": "execute_result"
    }
   ],
   "source": [
    "torch.cuda.is_available()"
   ]
  },
  {
   "cell_type": "code",
   "execution_count": 3,
   "metadata": {},
   "outputs": [
    {
     "data": {
      "text/plain": [
       "0"
      ]
     },
     "execution_count": 3,
     "metadata": {},
     "output_type": "execute_result"
    }
   ],
   "source": [
    "torch.cuda.current_device()"
   ]
  },
  {
   "cell_type": "code",
   "execution_count": 4,
   "metadata": {},
   "outputs": [
    {
     "data": {
      "text/plain": [
       "<torch.cuda.device at 0x7fa358e0e550>"
      ]
     },
     "execution_count": 4,
     "metadata": {},
     "output_type": "execute_result"
    }
   ],
   "source": [
    "torch.cuda.device(0)"
   ]
  },
  {
   "cell_type": "code",
   "execution_count": 5,
   "metadata": {},
   "outputs": [
    {
     "data": {
      "text/plain": [
       "1"
      ]
     },
     "execution_count": 5,
     "metadata": {},
     "output_type": "execute_result"
    }
   ],
   "source": [
    "torch.cuda.device_count()"
   ]
  },
  {
   "cell_type": "code",
   "execution_count": 6,
   "metadata": {},
   "outputs": [
    {
     "data": {
      "text/plain": [
       "'GeForce GTX 1070'"
      ]
     },
     "execution_count": 6,
     "metadata": {},
     "output_type": "execute_result"
    }
   ],
   "source": [
    "torch.cuda.get_device_name(0)"
   ]
  },
  {
   "cell_type": "code",
   "execution_count": 7,
   "metadata": {},
   "outputs": [
    {
     "data": {
      "text/plain": [
       "tensor([[0.3884, 0.1824, 0.6683],\n",
       "        [0.1885, 0.3415, 0.0077],\n",
       "        [0.1445, 0.2066, 0.0307]], device='cuda:0')"
      ]
     },
     "execution_count": 7,
     "metadata": {},
     "output_type": "execute_result"
    }
   ],
   "source": [
    "torch.rand(3,3).cuda()"
   ]
  },
  {
   "cell_type": "code",
   "execution_count": 4,
   "metadata": {},
   "outputs": [
    {
     "data": {
      "text/plain": [
       "(True, None)"
      ]
     },
     "execution_count": 4,
     "metadata": {},
     "output_type": "execute_result"
    }
   ],
   "source": [
    "PW = 'testPW1!'\n",
    "PW_SPECIALS = '`~!@#$%^&*()-_=+|[]{};:\\'\",.<>/?\\\\'\n",
    "\n",
    "def pwChecker(pw):\n",
    "    if len(pw) <= 7:\n",
    "        return (False, 'ERR_PW_LEN_SHORT')\n",
    "    if len(pw) >= 20:\n",
    "        return (False, 'ERR_PW_LEN_LONG')\n",
    "    has_alpha = False\n",
    "    has_num = False\n",
    "    has_special = False\n",
    "    for char in pw:\n",
    "        if char.isdigit():\n",
    "            has_num = True\n",
    "        if char.isalpha():\n",
    "            has_alpha = True\n",
    "        if char in PW_SPECIALS:\n",
    "            has_special = True\n",
    "        if (not char.isdigit()) and (not char.isalpha()) and (not char in PW_SPECIALS):\n",
    "            return (False, 'ERR_PW_WRONG_LETTER')\n",
    "    if not has_num:\n",
    "        return (False, 'ERR_PW_NO_NUM')\n",
    "    if not has_alpha:\n",
    "        return (False, 'ERR_PW_NO_ALPHA')\n",
    "    if not has_special:\n",
    "        return (False, 'ERR_PW_NO_SPECIAL')\n",
    "    return (True, None)\n",
    "\n",
    "pwChecker(PW)"
   ]
  },
  {
   "cell_type": "code",
   "execution_count": null,
   "metadata": {},
   "outputs": [],
   "source": []
  }
 ],
 "metadata": {
  "kernelspec": {
   "display_name": "Python (pytorch)",
   "language": "python",
   "name": "pytorch"
  },
  "language_info": {
   "codemirror_mode": {
    "name": "ipython",
    "version": 3
   },
   "file_extension": ".py",
   "mimetype": "text/x-python",
   "name": "python",
   "nbconvert_exporter": "python",
   "pygments_lexer": "ipython3",
   "version": "3.6.6"
  }
 },
 "nbformat": 4,
 "nbformat_minor": 2
}
