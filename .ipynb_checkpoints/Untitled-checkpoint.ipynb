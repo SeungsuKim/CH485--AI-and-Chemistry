{
 "cells": [
  {
   "cell_type": "code",
   "execution_count": null,
   "metadata": {},
   "outputs": [],
   "source": [
    "\n",
    "q = p\n",
    "p = sorted([(str(x[0]), x[1]) for x in enumerate(p)], f)\n",
    "\n",
    "code = { x[0]: '' for x in p}\n",
    "\n",
    "\n",
    "for k in range(10-1):\n",
    "    for x in p[0][0]:\n",
    "        code[x] += '0'\n",
    "    for x in p[1][0]:\n",
    "        code[x] += '1'\n",
    "\n",
    "    p = sorted(p[2:] + [(p[0][0]+p[1][0], p[0][1]+p[1][1])],f)\n",
    "\n",
    "print q\n",
    "print code"
   ]
  },
  {
   "cell_type": "code",
   "execution_count": 12,
   "metadata": {},
   "outputs": [
    {
     "name": "stdout",
     "output_type": "stream",
     "text": [
      "{'0': '000', '1': '100', '5': '010', '2': '110', '4': '001', '3': '101', '6': '011', '7': '111'}\n"
     ]
    }
   ],
   "source": [
    "freqs = [301, 302, 303, 304, 303, 302, 304, 304]\n",
    "\n",
    "freqs = [(str(i), freq) for i, freq in enumerate(freqs)]\n",
    "f = lambda x: x[1]\n",
    "freqs = sorted(freqs, key=f)\n",
    "freqs\n",
    "\n",
    "code = { x[0]: '' for x in freqs }\n",
    "\n",
    "for k in range(len(freqs)-1):\n",
    "    for x in freqs[0][0]:\n",
    "        code[x] += '0'\n",
    "    for x in freqs[1][0]:\n",
    "        code[x] += '1'\n",
    "    \n",
    "    freqs = sorted(freqs[2:] + [(freqs[0][0]+freqs[1][0], freqs[0][1]+freqs[1][1])], key=f)\n",
    "\n",
    "print(code)"
   ]
  },
  {
   "cell_type": "code",
   "execution_count": null,
   "metadata": {},
   "outputs": [],
   "source": [
    "301\n",
    "302\n",
    "303\n",
    "304\n",
    "303\n",
    "302\n",
    "304\n",
    "304"
   ]
  },
  {
   "cell_type": "code",
   "execution_count": 2,
   "metadata": {},
   "outputs": [],
   "source": [
    "class HuffmanNode:\n",
    "    \n",
    "    def __init__(self, char, freq):\n",
    "        self.char = char\n",
    "        self.freq = freq\n",
    "        self.left = None\n",
    "        self.right = None\n",
    "        \n",
    "    def __cmp__(self, other):\n",
    "        if other is None:\n",
    "            return -1\n",
    "        return self.freq > other.freq"
   ]
  },
  {
   "cell_type": "code",
   "execution_count": 4,
   "metadata": {},
   "outputs": [],
   "source": [
    "import heapq\n",
    "\n",
    "class Huffman:\n",
    "    \n",
    "    def __init__(self):\n",
    "        self.heap = []\n",
    "        self.freqs = {}\n",
    "        self.codes = {}\n",
    "        \n",
    "    def generate_freqs(self, freqs):\n",
    "        self.freqs = {}\n",
    "        for i, freq in enumerate(freqs):\n",
    "            frequency[str(i)] = freq\n",
    "            \n",
    "    def generate_heap(self):\n",
    "        for key in self.freqs:\n",
    "            node = HuffmanNode(key, self.freqs[key])\n",
    "            heapq.heappush(self.heap, node)\n",
    "            \n",
    "    def merge_nodes(self):\n",
    "        while len(self.heap) > 1:\n",
    "            node1 = heapq.heappop(self.heap)\n",
    "            node2 = heapq.heappop(self.heap)\n",
    "            \n",
    "            merged_node = HuffmanNode(None, node1.freq+node2.freq)\n",
    "            merged_node.left = node1\n",
    "            merged_node.right = node2\n",
    "            \n",
    "            heapq.heappush(self.heap, merged_node)\n",
    "            \n",
    "    def generate_code_helper(self, root, code):\n",
    "        if root is None:\n",
    "            return\n",
    "        \n",
    "        if not root.char is None:\n",
    "            self.codes[root.char] = code\n",
    "            return\n",
    "            \n",
    "        self.generate_code_helper(root.left, code+'0')\n",
    "        self.generate_code_helper(root.right, code+'1')\n",
    "    \n",
    "    def generate_code(self):\n",
    "        "
   ]
  },
  {
   "cell_type": "code",
   "execution_count": null,
   "metadata": {},
   "outputs": [],
   "source": []
  }
 ],
 "metadata": {
  "kernelspec": {
   "display_name": "Python (pytorch)",
   "language": "python",
   "name": "pytorch"
  },
  "language_info": {
   "codemirror_mode": {
    "name": "ipython",
    "version": 3
   },
   "file_extension": ".py",
   "mimetype": "text/x-python",
   "name": "python",
   "nbconvert_exporter": "python",
   "pygments_lexer": "ipython3",
   "version": "3.6.7"
  }
 },
 "nbformat": 4,
 "nbformat_minor": 2
}
