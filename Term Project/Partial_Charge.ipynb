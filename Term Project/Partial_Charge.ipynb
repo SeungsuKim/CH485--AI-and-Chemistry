{
 "cells": [
  {
   "cell_type": "markdown",
   "metadata": {},
   "source": [
    "# Preparing Dataset\n",
    "json\n",
    "incl\n",
    "solvent\n",
    "peak = [ppm,intensity]\n",
    "\n",
    "Yppm batch X 100\n",
    "Yintensity batch X 100"
   ]
  },
  {
   "cell_type": "code",
   "execution_count": null,
   "metadata": {},
   "outputs": [],
   "source": [
    "InChi = ['1S/CH4/h1H4', '1S/H2O/h1H2', '1S/CH3.Li/h1H3', '1S/H4Si/h1H4', '1S/C3H4/c1-2-3-1/h1-2H,3H2', '1S/C3H5NO/c1-2-3(4)5/h2H,1H2,(H2,4,5)', '1S/C3H4O2/c1-2-3(4)5/h2H,1H2,(H,4,5)', '1S/C2H7NS/c3-1-2-4/h4H,1-3H2']\n",
    "solvent = ['CCl4','CDCl3', 'benzene-d6', 'cyclohexane', 'neat', 'D2O', 'CDCl3', 'D2O']\n",
    "frequency = [300, 399.65, 399.65, 300, 300, 89.56, 89.56]\n",
    "peak = [[[69.60, 0.232, 1000]],\n",
    "        [[631.05, 1.579, 1000]],\n",
    "        [[-526.24, -1.316, 1000],\n",
    "         [-534.29, -1.336, 29],\n",
    "         [-534.90, -1.338, 25]],\n",
    "        [[960.00, 3.200, 1000]],\n",
    "        [[2118.9, 7.063, 995],\n",
    "         [2117.19, 7.057, 997],\n",
    "         [279.85, 0.933, 1000],\n",
    "         [278.21, 0.927, 998]],\n",
    "        [[583.06,6.511,25],\n",
    "         [566.06,6.321,410],\n",
    "         [563,6.287,444],\n",
    "         [558.56,6.237,1000],\n",
    "         [546,6.097,70],\n",
    "         [540.25,6.033,46],\n",
    "         [527.5,5.89,339],\n",
    "         [523.06,5.841,242],\n",
    "         [520.19,5.809,217],\n",
    "         [515.75,5.759,194]],\n",
    "       [[1073.93, 11.992, 489],\n",
    "        [595.92,6.654,287],\n",
    "        [592.50,   6.616,    300],\n",
    "        [580.29,   6.480,    665],\n",
    "        [576.87,   6.442,    813],\n",
    "        [571.06,   6.377,     85],\n",
    "        [563.02,   6.287,    516],\n",
    "        [553.03,   6.175,   1000],\n",
    "        [550.89,   6.152,    130],\n",
    "        [539.18,   6.021,    829],\n",
    "        [537.30,   6.000,    686],\n",
    "        [535.77,   5.983,    846],\n",
    "        [534.23,   5.966,     87],\n",
    "        [529.19,   5.909,    356],\n",
    "        [525.77,   5.871,    136]],\n",
    "       [[445.88,   4.979,    970],\n",
    "        [282.19,   3.151,     30],\n",
    "        [278.19,   3.107,    321],\n",
    "        [276.38,   3.086,    322],\n",
    "        [271.88,   3.036,   474],\n",
    "        [269.75,   3.012,   1000],\n",
    "        [267.38,   2.986,    199],\n",
    "        [264.19,   2.950,    846],\n",
    "        [263.38,   2.941,    860],\n",
    "        [259.63,   2.899,    124],\n",
    "        [259.06,   2.893,    119],\n",
    "        [258.00,   2.881,    103],\n",
    "        [257.06,   2.871,     95],\n",
    "        [256.81,  2.868 ,    95],\n",
    "        [256.31,   2.862,     92],\n",
    "        [256.00,   2.859,     88],\n",
    "        [255.31,   2.851,     90],\n",
    "        [255.00,   2.848,     91],\n",
    "        [254.75,   2.845,     91],\n",
    "        [248.00,   2.770,    689],\n",
    "        [241.63,   2.698,    747],\n",
    "        [235.13,   2.626,    268],\n",
    "        [233.25,   2.605,    234]]]\n"
   ]
  },
  {
   "cell_type": "markdown",
   "metadata": {},
   "source": [
    "# Data Preprocessing"
   ]
  },
  {
   "cell_type": "code",
   "execution_count": 72,
   "metadata": {},
   "outputs": [],
   "source": [
    "import numpy as np\n",
    "from rdkit import Chem, DataStructs\n",
    "from rdkit.Chem import AllChem, Draw\n",
    "from rdkit.Chem.Crippen import MolLogP\n",
    "from rdkit.Chem.rdMolDescriptors import CalcTPSA\n",
    "from oddt import toolkits\n",
    "from oddt.toolkits.extras import rdkit\n",
    "import matplotlib.pyplot\n",
    "from rdkit.Chem.Draw import IPythonConsole\n",
    "IPythonConsole.ipython_useSVG = True"
   ]
  },
  {
   "cell_type": "code",
   "execution_count": 73,
   "metadata": {},
   "outputs": [],
   "source": [
    "def atom_feature(atom):\n",
    "    return np.array(one_of_k_encoding_unk(atom.GetSymbol(),\n",
    "                                      ['C', 'N', 'O', 'S', 'F', 'H', 'Si', 'P', 'Cl', 'Br',\n",
    "                                       'Li', 'Na', 'K', 'Mg', 'Ca', 'Fe', 'As', 'Al', 'I', 'B',\n",
    "                                       'V', 'Tl', 'Sb', 'Sn', 'Ag', 'Pd', 'Co', 'Se', 'Ti', 'Zn',\n",
    "                                       'Ge', 'Cu', 'Au', 'Ni', 'Cd', 'Mn', 'Cr', 'Pt', 'Hg', 'Pb']) +\n",
    "                    one_of_k_encoding(atom.GetDegree(), [0, 1, 2, 3, 4, 5]) +\n",
    "                    one_of_k_encoding_unk(atom.GetTotalNumHs(), [0, 1, 2, 3, 4]) +\n",
    "                    one_of_k_encoding_unk(atom.GetImplicitValence(), [0, 1, 2, 3, 4, 5]) +\n",
    "                    [atom.GetIsAromatic()])    # (40, 6, 5, 6, 1)"
   ]
  },
  {
   "cell_type": "code",
   "execution_count": 74,
   "metadata": {},
   "outputs": [],
   "source": [
    "def one_of_k_encoding(x, allowable_set):\n",
    "    if x not in allowable_set:\n",
    "        raise Exception(\"input {0} not in allowable set{1}:\".format(x, allowable_set))\n",
    "    #print list((map(lambda s: x == s, allowable_set)))\n",
    "    return list(map(lambda s: x == s, allowable_set))\n",
    "\n",
    "def one_of_k_encoding_unk(x, allowable_set):\n",
    "    \"\"\"Maps inputs not in the allowable set to the last element.\"\"\"\n",
    "    if x not in allowable_set:\n",
    "        x = allowable_set[-1]\n",
    "    return list(map(lambda s: x == s, allowable_set))"
   ]
  },
  {
   "cell_type": "code",
   "execution_count": 75,
   "metadata": {},
   "outputs": [],
   "source": [
    "def mol_with_atom_index(mol):\n",
    "    n_atoms = mol.GetNumAtoms()\n",
    "    for idx in range(n_atoms):\n",
    "        mol.GetAtomWithIdx(idx).SetProp('molAtomMapNumber', str(mol.GetAtomWithIdx(idx).GetIdx()))\n",
    "    return mol\n",
    "\n",
    "def assign_peak_to_H(mol, allowable_set):\n",
    "    partial_charge = []\n",
    "    n_atoms = mol.GetNumAtoms()\n",
    "    for i, atom in enumerate(mol.GetAtoms()):\n",
    "        if atom.GetSymbol() == 'H':\n",
    "            pc = [int(i), float(atom.GetProp(\"_GasteigerCharge\"))]\n",
    "            partial_charge.append(pc)\n",
    "        else:\n",
    "            partial_charge.append([int(i), 0])\n",
    "    partial_charge.sort(key = lambda x: x[1])\n",
    "    partial_charge.reverse()\n",
    "    #for i in range(len(partial_charge)):\n",
    "    #    print (\"{0}\".format(partial_charge[i]))\n",
    "    '''now list partial_charge is oriented with the largest value to lowest\n",
    "       value of the partial charge assigned with its atom number'''\n",
    "    '''Allowable set is NMR peak data which is sorted from highest ppm to\n",
    "    lowest ppm, we have to assign each ppm to **several** numbers of protons'''\n",
    "    nmr_peak = dict()\n",
    "    allowable_set_pad = np.zeros(n_atoms)\n",
    "    allowable_set_pad[0:len(allowable_set)] = allowable_set\n",
    "    #print(allowable_set_pad)\n",
    "    nmr_peak['{0}'.format(partial_charge[0][0])] = allowable_set_pad[0]\n",
    "    \n",
    "    #partial_charge[i][1] 값을 비교 -> 전꺼와 같으면 같은 값, 다르면 그 다음 값\n",
    "    j = 0\n",
    "    for i in range(1,len(partial_charge)):\n",
    "        if partial_charge[i-1][1] == partial_charge[i][1]:\n",
    "            nmr_peak['{0}'.format(partial_charge[i][0])] = allowable_set_pad[j]\n",
    "        elif partial_charge[i-1][1] > partial_charge[i][1]:\n",
    "            nmr_peak['{0}'.format(partial_charge[i][0])] = allowable_set_pad[j+1]\n",
    "            j += 1\n",
    "    \n",
    "    return nmr_peak"
   ]
  },
  {
   "cell_type": "code",
   "execution_count": 115,
   "metadata": {},
   "outputs": [],
   "source": [
    "def convert_to_graph(InChi_list, peak_list):\n",
    "    adj = []\n",
    "    adj_norm = []\n",
    "    features = []\n",
    "    maxNumAtoms = 50\n",
    "    for i in InChi_list:\n",
    "        #Mol\n",
    "        #iMol = Chem.MolFromSmiles(i.strip())\n",
    "        iMol = Chem.inchi.MolFromInchi(i.strip())\n",
    "        iMol = Chem.rdmolops.AddHs(iMol)\n",
    "        #Adj\n",
    "        iAdjTmp = Chem.rdmolops.GetAdjacencyMatrix(iMol)\n",
    "        iMol = mol_with_atom_index(iMol)\n",
    "        AllChem.ComputeGasteigerCharges(iMol)\n",
    "        # Feature\n",
    "        if(iAdjTmp.shape[0] <= maxNumAtoms):\n",
    "            # Feature-preprocessing\n",
    "            iFeature = np.zeros((maxNumAtoms, 58))\n",
    "            iFeatureTmp = []\n",
    "            nmr_dict = assign_peak_to_H(iMol, peak_list)\n",
    "            nmr_peak = []\n",
    "            for atom in iMol.GetAtoms():\n",
    "                #iFeatureTmp.append(atom_feature(atom)) ### atom features only\n",
    "                arr = atom_feature(atom)\n",
    "                #print(arr)\n",
    "                #print(arr[0], arr[1], arr[2], arr[3], arr[4], arr[5])\n",
    "                nmr_peak.append(np.array(nmr_dict[str(atom.GetAtomMapNum())]))\n",
    "                iFeatureTmp.append(arr)\n",
    "                #print(arr)\n",
    "            iFeature[0:len(iFeatureTmp), 0:58] = iFeatureTmp ### 0 padding for feature-set\n",
    "            nmrpeak = np.zeros(maxNumAtoms)\n",
    "            nmrpeak[0:len(nmr_peak)] = nmr_peak\n",
    "            for i in range(len(iFeature)):\n",
    "                iFeature[i][5] = nmrpeak[i]\n",
    "            features.append(iFeature)\n",
    "\n",
    "            # Adj-preprocessing\n",
    "            iAdj = np.zeros((maxNumAtoms, maxNumAtoms))\n",
    "            iAdj[0:len(iFeatureTmp), 0:len(iFeatureTmp)] = iAdjTmp + np.eye(len(iFeatureTmp))\n",
    "            adj.append(np.asarray(iAdj))\n",
    "    features = np.asarray(features)\n",
    "\n",
    "    return features, adj\n",
    "    "
   ]
  },
  {
   "cell_type": "code",
   "execution_count": 116,
   "metadata": {},
   "outputs": [
    {
     "name": "stdout",
     "output_type": "stream",
     "text": [
      "0.0\n",
      "0.0\n",
      "0.0\n",
      "0.0\n",
      "0.0\n",
      "0.0\n",
      "1.681\n",
      "1.681\n",
      "1.681\n",
      "1.24\n",
      "1.24\n",
      "1.24\n",
      "1.92\n",
      "4.23\n",
      "5.53\n",
      "5.64\n",
      "0.0\n",
      "0.0\n",
      "0.0\n",
      "0.0\n",
      "0.0\n",
      "0.0\n",
      "0.0\n",
      "0.0\n",
      "0.0\n",
      "0.0\n",
      "0.0\n",
      "0.0\n",
      "0.0\n",
      "0.0\n",
      "0.0\n",
      "0.0\n",
      "0.0\n",
      "0.0\n",
      "0.0\n",
      "0.0\n",
      "0.0\n",
      "0.0\n",
      "0.0\n",
      "0.0\n",
      "0.0\n",
      "0.0\n",
      "0.0\n",
      "0.0\n",
      "0.0\n",
      "0.0\n",
      "0.0\n",
      "0.0\n",
      "0.0\n",
      "0.0\n"
     ]
    }
   ],
   "source": [
    "features, adj = convert_to_graph(['InChI=1S/C5H10O/c1-3-4-5(2)6/h3-6H,1-2H3/b4-3+'],[5.64, 5.53, 4.23, 1.92, 1.681, 1.240])\n",
    "for i in range(50):\n",
    "    print(features[0][i][5])"
   ]
  },
  {
   "cell_type": "code",
   "execution_count": 78,
   "metadata": {},
   "outputs": [
    {
     "name": "stdout",
     "output_type": "stream",
     "text": [
      "{'15': 5.64, '14': 5.53, '13': 4.23, '12': 1.92, '8': 1.681, '7': 1.681, '6': 1.681, '11': 1.24, '10': 1.24, '9': 1.24, '5': 0.0, '4': 0.0, '3': 0.0, '2': 0.0, '1': 0.0, '0': 0.0}\n"
     ]
    },
    {
     "data": {
      "image/png": "[encoded data removed]",
      "text/plain": [
       "<Figure size 216x216 with 1 Axes>"
      ]
     },
     "metadata": {
      "needs_background": "light"
     },
     "output_type": "display_data"
    }
   ],
   "source": [
    "inchi = 'InChI=1S/C5H10O/c1-3-4-5(2)6/h3-6H,1-2H3/b4-3+'\n",
    "[['A', 5,64],\n",
    " ['B', 5.53],\n",
    " ['C', 4.23],\n",
    " ['D', 1.92],\n",
    " ['E', 1.681],\n",
    " ['F', 1.240]]\n",
    "sets = [5.64, 5.53, 4.23, 1.92, 1.681, 1.240]\n",
    "m = Chem.inchi.MolFromInchi(inchi)\n",
    "m = Chem.rdmolops.AddHs(m)\n",
    "m = mol_with_atom_index(m)\n",
    "Chem.Draw.MolToMPL(m)\n",
    "AllChem.ComputeGasteigerCharges(m)\n",
    "nmr = assign_peak_to_H(m, sets)\n",
    "print(nmr)"
   ]
  },
  {
   "cell_type": "code",
   "execution_count": 15,
   "metadata": {},
   "outputs": [],
   "source": [
    "def mol_with_atom_index(mol):\n",
    "    n_atoms = mol.GetNumAtoms()\n",
    "    for idx in range(n_atoms):\n",
    "        mol.GetAtomWithIdx(idx).SetProp('molAtomMapNumber', str(mol.GetAtomWithIdx(idx).GetIdx()))\n",
    "    return mol\n",
    "\n",
    "def assign_peak_to_H(mol, allowable_set):\n",
    "    partial_charge = []\n",
    "    n_atoms = mol.GetNumAtoms()\n",
    "    for i, atom in enumerate(mol.GetAtoms()):\n",
    "        pc = [int(i), float(atom.GetProp(\"_GasteigerCharge\"))]\n",
    "        partial_charge.append(pc)\n",
    "\n",
    "    partial_charge.sort(key = lambda x: x[1])\n",
    "    partial_charge.reverse()\n",
    "    #for i in range(len(partial_charge)):\n",
    "    #    print (\"{0}\".format(partial_charge[i]))\n",
    "    '''now list partial_charge is oriented with the largest value to lowest\n",
    "       value of the partial charge assigned with its atom number'''\n",
    "    '''Allowable set is NMR peak data which is sorted from highest ppm to\n",
    "    lowest ppm, we have to assign each ppm to **several** numbers of protons'''\n",
    "    nmr_peak = []\n",
    "    allowable_set_pad = np.zeros(n_atoms)\n",
    "    allowable_set_pad[0:len(allowable_set)] = allowable_set\n",
    "    #print(allowable_set_pad)\n",
    "    nmr_peak.append([partial_charge[0][0],allowable_set_pad[0]])\n",
    "    \n",
    "    #partial_charge[i][1] 값을 비교 -> 전꺼와 같으면 같은 값, 다르면 그 다음 값\n",
    "    j = 0\n",
    "    for i in range(1,len(partial_charge)):\n",
    "        if partial_charge[i-1][1] == partial_charge[i][1]:\n",
    "            nmr_peak.append([partial_charge[i][0], allowable_set_pad[j]])\n",
    "        elif partial_charge[i-1][1] > partial_charge[i][1]:\n",
    "            nmr_peak.append([partial_charge[i][0], allowable_set_pad[j+1]])\n",
    "            j += 1\n",
    "    \n",
    "    return nmr_peak"
   ]
  },
  {
   "cell_type": "code",
   "execution_count": 16,
   "metadata": {},
   "outputs": [
    {
     "name": "stdout",
     "output_type": "stream",
     "text": [
      "[[15, 5.64], [4, 5.53], [14, 4.23], [13, 1.92], [12, 1.681], [8, 1.24], [7, 1.24], [6, 1.24], [11, 0.0], [10, 0.0], [9, 0.0], [1, 0.0], [0, 0.0], [3, 0.0], [2, 0.0], [5, 0.0]]\n"
     ]
    },
    {
     "data": {
      "image/png": "[encoded data removed]",
      "text/plain": [
       "<Figure size 216x216 with 1 Axes>"
      ]
     },
     "metadata": {
      "needs_background": "light"
     },
     "output_type": "display_data"
    }
   ],
   "source": [
    "inchi = 'InChI=1S/C5H10O/c1-3-4-5(2)6/h3-6H,1-2H3/b4-3+'\n",
    "[['A', 5,64],\n",
    " ['B', 5.53],\n",
    " ['C', 4.23],\n",
    " ['D', 1.92],\n",
    " ['E', 1.681],\n",
    " ['F', 1.240]]\n",
    "sets = [5.64, 5.53, 4.23, 1.92, 1.681, 1.240]\n",
    "m = Chem.inchi.MolFromInchi(inchi)\n",
    "m = Chem.rdmolops.AddHs(m)\n",
    "m = mol_with_atom_index(m)\n",
    "Chem.Draw.MolToMPL(m)\n",
    "AllChem.ComputeGasteigerCharges(m)\n",
    "nmr = assign_peak_to_H(m, sets)\n",
    "print(nmr)"
   ]
  },
  {
   "cell_type": "code",
   "execution_count": null,
   "metadata": {},
   "outputs": [],
   "source": []
  }
 ],
 "metadata": {
  "kernelspec": {
   "display_name": "Python (pytorch)",
   "language": "python",
   "name": "pytorch"
  },
  "language_info": {
   "codemirror_mode": {
    "name": "ipython",
    "version": 3
   },
   "file_extension": ".py",
   "mimetype": "text/x-python",
   "name": "python",
   "nbconvert_exporter": "python",
   "pygments_lexer": "ipython3",
   "version": "3.6.6"
  }
 },
 "nbformat": 4,
 "nbformat_minor": 2
}
