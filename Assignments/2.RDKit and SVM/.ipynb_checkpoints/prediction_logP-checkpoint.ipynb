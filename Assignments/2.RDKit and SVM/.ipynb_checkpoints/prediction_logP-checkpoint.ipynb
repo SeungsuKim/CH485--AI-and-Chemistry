{
 "cells": [
  {
   "cell_type": "markdown",
   "metadata": {},
   "source": [
    "We learned usage of RDKit - a python library for cheminformatics. <br>\n",
    "In this tutorial, we will use a support vector regression (SVR) to predict logP (partition coefficeint). <br>\n",
    "The input - structural feature of molecules is Morgan fingerprint and the eoutput is logP. <br>\n",
    "\n",
    "At first, import necessary libraries."
   ]
  },
  {
   "cell_type": "code",
   "execution_count": 4,
   "metadata": {},
   "outputs": [],
   "source": [
    "import numpy as np\n",
    "from rdkit import Chem\n",
    "from rdkit.Chem.Crippen import MolLogP\n",
    "from rdkit import Chem, DataStructs\n",
    "from rdkit.Chem import AllChem\n",
    "from sklearn.svm import SVR\n",
    "from sklearn.metrics import mean_squared_error, r2_score\n",
    "from scipy import stats\n",
    "import matplotlib.pyplot as plt"
   ]
  },
  {
   "attachments": {},
   "cell_type": "markdown",
   "metadata": {},
   "source": [
    "I prepared the SMILES of molecules in ZINC dataset. \n",
    "You can download more data from ZINC database - http://zinc.docking.org/\n",
    "\n",
    "Obtain the molecular fingerprint and logP values from RDKit. <br>\n",
    "You can see more detail usage of RDKit in a 'RDKit Cookbook' - https://www.rdkit.org/docs/Cookbook.html."
   ]
  },
  {
   "cell_type": "code",
   "execution_count": 5,
   "metadata": {
    "collapsed": true
   },
   "outputs": [],
   "source": [
    "num_mols = 20000\n",
    "f = open('smiles.txt', 'r')\n",
    "contents = f.readlines()\n",
    "\n",
    "fps_total = []\n",
    "logP_total = []\n",
    "\n",
    "for i in range(num_mols):\n",
    "    smi = contents[i].split()[0]\n",
    "    m = Chem.MolFromSmiles(smi)\n",
    "    fp = AllChem.GetMorganFingerprintAsBitVect(m,2)\n",
    "    arr = np.zeros((1,))\n",
    "    DataStructs.ConvertToNumpyArray(fp,arr)\n",
    "    fps_total.append(arr)\n",
    "    logP_total.append(MolLogP(m))\n",
    "    \n",
    "fps_total = np.asarray(fps_total)\n",
    "logP_total = np.asarray(logP_total)"
   ]
  },
  {
   "cell_type": "markdown",
   "metadata": {},
   "source": [
    "Then split the total dataset to a training and test set."
   ]
  },
  {
   "cell_type": "code",
   "execution_count": 6,
   "metadata": {},
   "outputs": [
    {
     "data": {
      "text/plain": [
       "(5000, 4000, 1000)"
      ]
     },
     "execution_count": 6,
     "metadata": {},
     "output_type": "execute_result"
    }
   ],
   "source": [
    "num_total = fps_total.shape[0]\n",
    "num_train = int(num_total*0.8)\n",
    "\n",
    "num_total, num_train, (num_total-num_train)"
   ]
  },
  {
   "cell_type": "code",
   "execution_count": 7,
   "metadata": {
    "collapsed": true
   },
   "outputs": [],
   "source": [
    "fps_train = fps_total[0:num_train]\n",
    "logP_train = logP_total[0:num_train]\n",
    "fps_test = fps_total[num_train:]\n",
    "logP_test = logP_total[num_train:]"
   ]
  },
  {
   "cell_type": "markdown",
   "metadata": {},
   "source": [
    "We will use a SVR model for a regression model. <br>\n",
    "Documentation is in here - http://scikit-learn.org/stable/modules/generated/sklearn.svm.SVR.html. <br>\n",
    "In this case, we will use a polynomial kernel and coefficients of the kernel as 5.0."
   ]
  },
  {
   "cell_type": "code",
   "execution_count": 8,
   "metadata": {},
   "outputs": [
    {
     "data": {
      "text/plain": [
       "SVR(C=1.0, cache_size=200, coef0=0.0, degree=3, epsilon=0.1, gamma=5.0,\n",
       "  kernel='poly', max_iter=-1, shrinking=True, tol=0.001, verbose=False)"
      ]
     },
     "execution_count": 8,
     "metadata": {},
     "output_type": "execute_result"
    }
   ],
   "source": [
    "_gamma = 5.0\n",
    "clf = SVR(kernel='poly', gamma=_gamma)\n",
    "clf.fit(fps_train, logP_train)"
   ]
  },
  {
   "cell_type": "markdown",
   "metadata": {},
   "source": [
    "After finish training, we should check the accuracy of our prediction. <br>\n",
    "For evaluation, we will use r2 and mean squared error for metrics."
   ]
  },
  {
   "cell_type": "code",
   "execution_count": 10,
   "metadata": {},
   "outputs": [
    {
     "data": {
      "text/plain": [
       "(0.75989553747443306, 0.40089623135693314)"
      ]
     },
     "execution_count": 10,
     "metadata": {},
     "output_type": "execute_result"
    }
   ],
   "source": [
    "logP_pred = clf.predict(fps_test)\n",
    "r2 = r2_score(logP_test, logP_pred)\n",
    "mse = mean_squared_error(logP_test, logP_pred)\n",
    "r2, mse"
   ]
  },
  {
   "cell_type": "markdown",
   "metadata": {},
   "source": [
    "We can visualize the results from the model. <br> \n",
    "Plot (True values - Predicted values), and also linear regression between them."
   ]
  },
  {
   "cell_type": "code",
   "execution_count": 11,
   "metadata": {},
   "outputs": [
    {
     "data": {
      "image/png": "[encoded data removed]",
      "text/plain": [
       "<matplotlib.figure.Figure at 0x961ad68>"
      ]
     },
     "metadata": {},
     "output_type": "display_data"
    }
   ],
   "source": [
    "slope, intercept, r_value, p_value, std_error = stats.linregress(logP_test, logP_pred)\n",
    "yy = slope*logP_test+intercept\n",
    "plt.scatter(logP_test, logP_pred, color='black', s=1)\n",
    "plt.plot(logP_test, yy, label='Predicted logP = '+str(round(slope,2))+'*True logP + '+str(round(intercept,2)))\n",
    "plt.xlabel('True logP')\n",
    "plt.ylabel('Predicted logP')\n",
    "plt.legend()\n",
    "plt.show()"
   ]
  },
  {
   "cell_type": "markdown",
   "metadata": {},
   "source": [
    "In summary, we use a SVR model for prediction of logP. <br>\n",
    "With prepared dataset, we can easily preprocess, construct the model and validated the results. <br>\n",
    "I hope that students became more accustomed to using RDKit, machine learning models and its visualizations. <br>\n",
    "Don't fear for familiar with data science. Just searching what functions are necessary and use it. I ensure that trials and errors are the best teacher."
   ]
  },
  {
   "cell_type": "code",
   "execution_count": null,
   "metadata": {
    "collapsed": true
   },
   "outputs": [],
   "source": []
  }
 ],
 "metadata": {
  "kernelspec": {
   "display_name": "Python 3",
   "language": "python",
   "name": "python3"
  },
  "language_info": {
   "codemirror_mode": {
    "name": "ipython",
    "version": 3
   },
   "file_extension": ".py",
   "mimetype": "text/x-python",
   "name": "python",
   "nbconvert_exporter": "python",
   "pygments_lexer": "ipython3",
   "version": "3.6.3"
  }
 },
 "nbformat": 4,
 "nbformat_minor": 2
}
